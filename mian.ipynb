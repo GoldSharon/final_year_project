{
 "cells": [
  {
   "cell_type": "code",
   "execution_count": null,
   "id": "c649af94",
   "metadata": {},
   "outputs": [],
   "source": [
    "import json\n",
    "import numpy as np\n",
    "import pandas as pd\n",
    "from typing import Union\n",
    "from automl import LightningAutoML  \n",
    "from sklearn.model_selection import train_test_split\n",
    "from cognitive_engine import CognitiveEngine\n",
    "from prompts import AUTOML_EVALUATION_SYSTEM_PROMPT"
   ]
  },
  {
   "cell_type": "code",
   "execution_count": 2,
   "id": "4c17abe7",
   "metadata": {},
   "outputs": [],
   "source": [
    "# -----------------------------\n",
    "# Helper: Prepare data\n",
    "# -----------------------------\n",
    "def prepare_data(X: Union[pd.DataFrame, np.ndarray], y: Union[pd.Series, np.ndarray], test_size=0.2, random_state=42):\n",
    "    if isinstance(X, pd.DataFrame):\n",
    "        X = X.values\n",
    "    if isinstance(y, (pd.Series, pd.DataFrame)):\n",
    "        y = y.values\n",
    "    return train_test_split(X, y, test_size=test_size, random_state=random_state)"
   ]
  },
  {
   "cell_type": "code",
   "execution_count": 3,
   "id": "349e04e2",
   "metadata": {},
   "outputs": [],
   "source": [
    "# -----------------------------\n",
    "# Helper: Train AutoML\n",
    "# -----------------------------\n",
    "def train_automl(X_train, X_test, y_train, y_test, ml_type=\"supervised\", method=\"class\", time_budget=300, n_trials=30):\n",
    "    automl = LightningAutoML(\n",
    "        ml_type=ml_type,\n",
    "        method=method,\n",
    "        X_train=X_train,\n",
    "        X_test=X_test,\n",
    "        y_train=y_train,\n",
    "        y_test=y_test,\n",
    "        time_budget=time_budget,\n",
    "        n_trials=n_trials,\n",
    "        verbose=False\n",
    "    )\n",
    "    automl.fit()\n",
    "    # Evaluate results\n",
    "    results = automl.evaluate()\n",
    "    leaderboard = automl.get_leaderboard()\n",
    "    \n",
    "    # Top 3 models\n",
    "    top3 = leaderboard.head(3).to_dict(orient=\"records\")\n",
    "    \n",
    "    # Overfitting check: compare train vs test score\n",
    "    train_score = automl.best_model.score\n",
    "    test_score = list(results.values())[0] if results else 0.0\n",
    "    overfitted = (train_score - test_score) > 0.1  # heuristic\n",
    "    \n",
    "    # Prepare JSON\n",
    "    data_json = {\n",
    "        \"best_model\": {\n",
    "            \"name\": automl.best_model.model_name,\n",
    "            \"hyperparameters\": automl.best_model.hyperparameters,\n",
    "            \"train_score\": train_score,\n",
    "            \"test_score\": test_score,\n",
    "            \"overfitted\": overfitted\n",
    "        },\n",
    "        \"top3_models\": top3,\n",
    "        \"metrics\": results\n",
    "    }\n",
    "    return data_json\n"
   ]
  },
  {
   "cell_type": "code",
   "execution_count": null,
   "id": "23ff4bb2",
   "metadata": {},
   "outputs": [],
   "source": [
    "# -----------------------------\n",
    "# Helper: Create prompt for LLM\n",
    "# -----------------------------\n",
    "\n"
   ]
  }
 ],
 "metadata": {
  "kernelspec": {
   "display_name": "tensorflow",
   "language": "python",
   "name": "python3"
  },
  "language_info": {
   "codemirror_mode": {
    "name": "ipython",
    "version": 3
   },
   "file_extension": ".py",
   "mimetype": "text/x-python",
   "name": "python",
   "nbconvert_exporter": "python",
   "pygments_lexer": "ipython3",
   "version": "3.10.18"
  }
 },
 "nbformat": 4,
 "nbformat_minor": 5
}
